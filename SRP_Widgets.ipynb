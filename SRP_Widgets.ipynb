{
  "nbformat": 4,
  "nbformat_minor": 0,
  "metadata": {
    "colab": {
      "name": "SRP_Widgets.ipynb",
      "provenance": [],
      "authorship_tag": "ABX9TyOSD2/5/oAfg63vdashbmYZ",
      "include_colab_link": true
    },
    "kernelspec": {
      "name": "python3",
      "display_name": "Python 3"
    }
  },
  "cells": [
    {
      "cell_type": "markdown",
      "metadata": {
        "id": "view-in-github",
        "colab_type": "text"
      },
      "source": [
        "<a href=\"https://colab.research.google.com/github/niels-overby/SRP2021/blob/main/SRP_Widgets.ipynb\" target=\"_parent\"><img src=\"https://colab.research.google.com/assets/colab-badge.svg\" alt=\"Open In Colab\"/></a>"
      ]
    },
    {
      "cell_type": "markdown",
      "metadata": {
        "id": "QTjUXTmn19eY"
      },
      "source": [
        "# Widgets\n",
        "\n",
        "I denne notebook kommer der til at være widgets hvor i kan bruge frekvensfiltrering og thresholding på jeres egne signaler.\n",
        "\n"
      ]
    },
    {
      "cell_type": "code",
      "metadata": {
        "id": "bws3AtYI2LDv"
      },
      "source": [
        ""
      ],
      "execution_count": null,
      "outputs": []
    }
  ]
}